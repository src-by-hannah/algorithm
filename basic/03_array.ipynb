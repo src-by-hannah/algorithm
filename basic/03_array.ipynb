{
  "nbformat": 4,
  "nbformat_minor": 0,
  "metadata": {
    "colab": {
      "name": "03_array.ipynb",
      "provenance": [],
      "collapsed_sections": []
    },
    "kernelspec": {
      "name": "python3",
      "display_name": "Python 3"
    },
    "language_info": {
      "name": "python"
    }
  },
  "cells": [
    {
      "cell_type": "markdown",
      "metadata": {
        "id": "nvDiq7f_j-Au"
      },
      "source": [
        ">**[바킹독의 실전 알고리즘] 0x03강 - 배열** <br><br>\n",
        ">**0x00 정의와 성질** <br>\n",
        ">**0x01 기능과 구현** <br>\n",
        ">@src-by-hannah\n"
      ]
    },
    {
      "cell_type": "markdown",
      "metadata": {
        "id": "21q4RU4ykHoU"
      },
      "source": [
        "# **배열이란**\n",
        "\n",
        "* **정의** \n",
        "\n",
        ": 메모리 상에 원소를 연속하게 배치한 자료구조\n",
        "\n",
        "* **성질**\n",
        "\n",
        "1. O(1)에 k번째 원소를 확인/변경 가능\n",
        "\n",
        "2. 추가적으로 소모되는 메모리의 양(=overhead)가 거의 없음\n",
        "\n",
        "3. Cache hit rate가 높음\n",
        "\n",
        "4. 메모리 상에 연속한 구간을 잡아야 해서 할당에 제약이 걸림"
      ]
    },
    {
      "cell_type": "markdown",
      "metadata": {
        "id": "N5MlaWiNkqLx"
      },
      "source": [
        "# **기능과 구현**\n",
        "\n",
        "* **대표적인 시간복잡도**\n",
        "\n",
        "1. 임의의 위치에 있는 원소를 확인/변경 - $O(1)$\n",
        "\n",
        "2. 원소를 끝에 추가 - $O(1)$\n",
        "\n",
        "3. 마지막 원소를 제거 - $O(1)$\n",
        "\n",
        "4. 임의의 위치에 원소를 추가/제거 - $O(N)$\n",
        "\n",
        ": 해당 위치 뒤의 모든 원소를 한 칸씩 미루거나 땡겨야 하므로 $O(N)$시간 소비\n",
        "\n",
        ": p.s. 평균적으로 $O(N/2)$만큼 미뤄야 하므로 $O(N)$과 마찬가지\n",
        "\n",
        "<br>\n",
        "\n",
        "* **구현**\n",
        "\n",
        "1. insert\n",
        "\n",
        "1) insert func.\n",
        "\n",
        ": index 위치에 obj 원소 추가\n",
        "\n",
        "<center>arr.insert(index, obj)</center>\n",
        "\n",
        "2) append func.\n",
        "\n",
        ": 배열 맨 뒤에 obj 원소 추가\n",
        "\n",
        "<center>arr.append(obj)</center>\n",
        "\n",
        "<br>\n",
        "\n",
        "2. erase\n",
        "\n",
        "1) pop func.\n",
        "\n",
        ": index 위치의 obj를 삭제하고 이를 리턴\n",
        "\n",
        "<center>arr.pop(index)</center>\n",
        "\n",
        "2) del func.\n",
        "\n",
        ": index 위치의 obj를 삭제\n",
        "\n",
        ": array의 범위를 지정하여 삭제 가능\n",
        "\n",
        "<center>del arr[index]</center>\n",
        "\n",
        "<center>del arr[i:j]</center>\n",
        "\n",
        "3) remove func.\n",
        "\n",
        ": 배열에서 obj와 동일한 원소를 찾아 삭제\n",
        "\n",
        ": 동일한 원소가 여러개 존재 할 경우 가장 앞의 원소만 삭제\n",
        "\n",
        "<center>arr.remove(obj)</center>"
      ]
    },
    {
      "cell_type": "code",
      "metadata": {
        "colab": {
          "base_uri": "https://localhost:8080/"
        },
        "id": "GkiNm1Dwhd5i",
        "outputId": "6d9dec42-51f7-4d3d-899c-3fe8733624b0"
      },
      "source": [
        "# 배열 정의\n",
        "\n",
        "arr = [1, 3, 4]\n",
        "print(arr)\n",
        "print(type(arr))\n",
        "\n",
        "print()\n",
        "\n",
        "# insert - insert\n",
        "arr.insert(1, 2)\n",
        "print(\"insert : \", arr) # 1234\n",
        "\n",
        "# insert - append\n",
        "arr.append(5)\n",
        "print(\"append : \", arr) #12345\n",
        "\n",
        "# erase - pop\n",
        "print(\"pop object : \", arr.pop(1)) # pop한 원소를 return함\n",
        "print(\"pop : \", arr) #1345\n",
        "\n",
        "# erase - del\n",
        "del arr[1:4]\n",
        "print(\"del : \", arr) #1\n",
        "\n",
        "# erase - remove\n",
        "arr = [1, 0, 1, 2, 3, 4, 5]\n",
        "\n",
        "arr.remove(1)\n",
        "print(\"remove : \", arr) #012345"
      ],
      "execution_count": 2,
      "outputs": [
        {
          "output_type": "stream",
          "text": [
            "[1, 3, 4]\n",
            "<class 'list'>\n",
            "\n",
            "insert :  [1, 2, 3, 4]\n",
            "append :  [1, 2, 3, 4, 5]\n",
            "pop object :  2\n",
            "pop :  [1, 3, 4, 5]\n",
            "del :  [1]\n",
            "remove :  [0, 1, 2, 3, 4, 5]\n"
          ],
          "name": "stdout"
        }
      ]
    },
    {
      "cell_type": "code",
      "metadata": {
        "colab": {
          "base_uri": "https://localhost:8080/"
        },
        "id": "SjfXGUQ04Xf-",
        "outputId": "a68d4e94-5e3e-4919-ca20-2db62f99d37f"
      },
      "source": [
        "# BOJ 10808번 : 알파벳 갯수\n",
        "\n",
        "def main() :\n",
        "  # 비교 대상\n",
        "  arr = ['a', 'b', 'c', 'd', 'e',\n",
        "         'f', 'g', 'h', 'i', 'j',\n",
        "         'k', 'l', 'm', 'n', 'o',\n",
        "         'p', 'q', 'r', 's', 't',\n",
        "         'u', 'v', 'w', 'x', 'y', 'z']\n",
        "  \n",
        "  # 결과\n",
        "  result = [0] * len(arr)\n",
        "  print(result)\n",
        "\n",
        "  # input\n",
        "  s = input()\n",
        "  print(s)\n",
        "\n",
        "  # calc\n",
        "  for w in s :\n",
        "    \"\"\" < 변경 전 >\n",
        "    if (w in arr) :\n",
        "      result[arr.index(w)] += 1\n",
        "    \"\"\"\n",
        "    result[arr.index(w)] += 1\n",
        "\n",
        "  # print\n",
        "  \"\"\" < 변경 전 >\n",
        "  for i in result :\n",
        "    print(i, end=' ')\n",
        "  \"\"\"\n",
        "  print(*result, sep=' ')\n",
        "  # sep='구분자' // 해당 구분자에 의해 띄어쓰기 되어 표현됨\n",
        "  \n",
        "if __name__ == \"__main__\":\n",
        "    main()"
      ],
      "execution_count": 11,
      "outputs": [
        {
          "output_type": "stream",
          "text": [
            "[0, 0, 0, 0, 0, 0, 0, 0, 0, 0, 0, 0, 0, 0, 0, 0, 0, 0, 0, 0, 0, 0, 0, 0, 0, 0]\n",
            "baekjoon\n",
            "baekjoon\n",
            "1 1 0 0 1 0 0 0 0 1 1 0 0 1 2 0 0 0 0 0 0 0 0 0 0 0\n"
          ],
          "name": "stdout"
        }
      ]
    }
  ]
}